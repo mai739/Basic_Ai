{
 "cells": [
  {
   "cell_type": "markdown",
   "id": "6de9793e",
   "metadata": {},
   "source": [
    "### python for AI"
   ]
  },
  {
   "cell_type": "markdown",
   "id": "e892761f",
   "metadata": {},
   "source": [
    "<p align=\"center\">\n",
    "  <img src=\"./3A25C6E2-144D-478B-A648-F40A75817273.JPG\" width=\"300\"/>\n",
    "</p>"
   ]
  },
  {
   "cell_type": "code",
   "execution_count": null,
   "id": "39c3e05e",
   "metadata": {},
   "outputs": [
    {
     "name": "stdout",
     "output_type": "stream",
     "text": [
      "You are an adult.\n"
     ]
    }
   ],
   "source": [
    "age = int(input(\"Enter your age: \"))\n",
    "if age >= 18:\n",
    "    print(\"You are an adult.\")\n",
    "else:\n",
    "    print(\"You are a minor.\")\n",
    "\n"
   ]
  },
  {
   "cell_type": "code",
   "execution_count": 2,
   "id": "f2f086d3",
   "metadata": {},
   "outputs": [
    {
     "name": "stdout",
     "output_type": "stream",
     "text": [
      "3 x 1 = 3\n",
      "3 x 2 = 6\n",
      "3 x 3 = 9\n",
      "3 x 4 = 12\n",
      "3 x 5 = 15\n",
      "3 x 6 = 18\n",
      "3 x 7 = 21\n",
      "3 x 8 = 24\n",
      "3 x 9 = 27\n",
      "3 x 10 = 30\n"
     ]
    }
   ],
   "source": [
    "number = int(input(\"Enter a number: \"))\n",
    "for i in range(1, 11):\n",
    "    print(f\"{number} x {i} = {number * i}\")"
   ]
  },
  {
   "cell_type": "code",
   "execution_count": 3,
   "id": "0d88f231",
   "metadata": {},
   "outputs": [
    {
     "name": "stdout",
     "output_type": "stream",
     "text": [
      "The larger number is: 20\n"
     ]
    }
   ],
   "source": [
    "def find_max(a, b):\n",
    "    return a if a > b else b\n",
    "\n",
    "a = int(input(\"Enter the first number: \"))\n",
    "b = int(input(\"Enter the second number: \"))\n",
    "print(\"The larger number is:\", find_max(a, b))"
   ]
  },
  {
   "cell_type": "code",
   "execution_count": 11,
   "id": "7d57458c",
   "metadata": {},
   "outputs": [
    {
     "name": "stdout",
     "output_type": "stream",
     "text": [
      "Element at index 0 is 1\n",
      "Element at index 1 is 2\n",
      "Element at index 2 is 3\n",
      "Element at index 3 is 4\n",
      "Element at index 4 is 5\n"
     ]
    }
   ],
   "source": [
    "num = []\n",
    "for i in range(5):\n",
    "    num.append(int(input(\"Enter a number: \")))\n",
    "\n",
    "for i in range(len(num)):\n",
    "    print(f\"Element at index {i} is {num[i]}\")\n"
   ]
  },
  {
   "cell_type": "code",
   "execution_count": 3,
   "id": "3c16ab56",
   "metadata": {},
   "outputs": [
    {
     "name": "stdout",
     "output_type": "stream",
     "text": [
      "85\n",
      "90\n",
      "78\n",
      "92\n",
      "88\n"
     ]
    }
   ],
   "source": [
    "list_score = [85, 90, 78, 92, 88]\n",
    "for i in list_score:\n",
    "    print(i)"
   ]
  },
  {
   "cell_type": "code",
   "execution_count": 10,
   "id": "0522781a",
   "metadata": {},
   "outputs": [
    {
     "name": "stdout",
     "output_type": "stream",
     "text": [
      "All numbers are: [1, 2, 3, 4, 5]\n",
      "Even numbers are: [2, 4]\n",
      "Odd numbers are: [1, 3, 5]\n"
     ]
    }
   ],
   "source": [
    "num = []\n",
    "numeven = []\n",
    "numodd = []\n",
    "lenum = int(input(\"Enter the number of elements: \"))\n",
    "\n",
    "for i in range(lenum):\n",
    "    num.append(int(input(f\"Enter a number {i + 1}: \")))\n",
    "\n",
    "\n",
    "for j in range(lenum):\n",
    "    if num[j] % 2 == 0:\n",
    "        numeven.append(num[j])\n",
    "    else:\n",
    "        numodd.append(num[j])\n",
    "\n",
    "print(f\"All numbers are: {num}\")\n",
    "print(f\"Even numbers are: {numeven}\")\n",
    "print(f\"Odd numbers are: {numodd}\")\n"
   ]
  },
  {
   "cell_type": "code",
   "execution_count": 1,
   "id": "3d59e9d1",
   "metadata": {},
   "outputs": [
    {
     "name": "stdout",
     "output_type": "stream",
     "text": [
      "1\n",
      "2\n",
      "3\n",
      "4\n",
      "5\n",
      "6\n",
      "7\n",
      "8\n",
      "9\n",
      "10\n"
     ]
    }
   ],
   "source": [
    "def print_numbers(a):\n",
    "    for i in range(1, a + 1):\n",
    "        print(i)\n",
    "\n",
    "n = int(input(\"Enter a number: \"))\n",
    "print_numbers(n)"
   ]
  },
  {
   "cell_type": "code",
   "execution_count": null,
   "id": "d3041605",
   "metadata": {},
   "outputs": [
    {
     "name": "stdout",
     "output_type": "stream",
     "text": [
      "The area of the rectangle is: 25.0\n"
     ]
    }
   ],
   "source": [
    "def area(width, height):\n",
    "    a = width * height\n",
    "    return a\n",
    "    \n",
    "width = float(input(\"Enter the width of the rectangle: \"))\n",
    "height = float(input(\"Enter the height of the rectangle: \"))\n",
    "print(f\"The area of the rectangle is: {area(width, height)}\")"
   ]
  },
  {
   "cell_type": "code",
   "execution_count": null,
   "id": "1a4131c9",
   "metadata": {},
   "outputs": [
    {
     "name": "stdout",
     "output_type": "stream",
     "text": [
      "Password strength: Strong\n",
      "Password strength: Weak\n",
      "Password strength: Weak\n",
      "Password strength: Medium\n",
      "Password strength: Weak\n",
      "Password strength: Weak\n",
      "Password strength: Weak\n"
     ]
    }
   ],
   "source": [
    "import re\n",
    "\n",
    "def analyze_password(password):\n",
    "    criteria = [\n",
    "        len(password) >= 8,\n",
    "        re.search(r'[A-Z]', password) is not None,\n",
    "        re.search(r'[a-z]', password) is not None,\n",
    "        re.search(r'\\d', password) is not None,\n",
    "        re.search(r'[@#$!%&*?]', password) is not None\n",
    "    ]\n",
    "    score = sum(criteria)\n",
    "    if score == 5:\n",
    "        return \"Strong\"\n",
    "    elif score >= 3:\n",
    "        return \"Medium\"\n",
    "    else:\n",
    "        return \"Weak\"\n",
    "\n",
    "passwords = []\n",
    "results = {\"Strong\": 0, \"Medium\": 0, \"Weak\": 0}\n",
    "\n",
    "while True:\n",
    "    pwd = input(\"Enter a password (or type 'done' to finish): \")\n",
    "    if pwd.lower() == \"done\":\n",
    "        break\n",
    "    strength = analyze_password(pwd)\n",
    "    print(f\"Password strength: {strength}\")\n",
    "    passwords.append((pwd, strength))\n",
    "    results[strength] += 1\n",
    "\n",
    "print(\"\\nSummary Report:\")\n",
    "print(f\"Total passwords checked: {len(passwords)}\")\n",
    "print(f\"Strong: {results['Strong']}\")\n",
    "print(f\"Medium: {results['Medium']}\")\n",
    "print(f\"Weak: {results['Weak']}\")"
   ]
  },
  {
   "cell_type": "code",
   "execution_count": null,
   "id": "5f77e0f1",
   "metadata": {},
   "outputs": [],
   "source": []
  }
 ],
 "metadata": {
  "kernelspec": {
   "display_name": "venv",
   "language": "python",
   "name": "python3"
  },
  "language_info": {
   "codemirror_mode": {
    "name": "ipython",
    "version": 3
   },
   "file_extension": ".py",
   "mimetype": "text/x-python",
   "name": "python",
   "nbconvert_exporter": "python",
   "pygments_lexer": "ipython3",
   "version": "3.13.7"
  }
 },
 "nbformat": 4,
 "nbformat_minor": 5
}
